{
 "cells": [
  {
   "cell_type": "markdown",
   "metadata": {},
   "source": [
    "# STAT 628 Module 2 Report"
   ]
  },
  {
   "cell_type": "markdown",
   "metadata": {},
   "source": [
    "_Yanqi Huang_ _Huiyu Jiang_ _Xinjie Ye_"
   ]
  },
  {
   "cell_type": "markdown",
   "metadata": {},
   "source": [
    "## Introduction"
   ]
  },
  {
   "cell_type": "markdown",
   "metadata": {},
   "source": [
    "**_Yelp_** is an American corporation headquartered in San Francisco. The **_Yelp.com_** and the **_Yelp_** mobile app, which pubish customers' reviews about local businesses and provide online reservation service, are owned by the corporation. Our _Yelp_ dataset is a part of the **_Yelp Dataset Challenge_**. Our project explores the relationship between text, rate and other attributes of a review based on the dataset."
   ]
  },
  {
   "cell_type": "markdown",
   "metadata": {},
   "source": [
    "## Background of Yelp Dataset"
   ]
  },
  {
   "cell_type": "markdown",
   "metadata": {},
   "source": [
    "The Yelp dataset we used in our project is derived from **_Yelp Dataset Challenge_**, which encourages students to conduct research and analysis on its dataset. The challenge usually contains photo classification, natural language processing & sentiments a analysis and graph mining. \n",
    "\n",
    "Our dataset consisting of 9 attributes has about 1.5 million records. The 9 attributes are stars of the review, ID number for Kaggle, name of the business, review text, date of the review, city in which the business is located, longitude , latitude and business categories. "
   ]
  },
  {
   "cell_type": "markdown",
   "metadata": {},
   "source": [
    "Our project aims at #thesis statement"
   ]
  },
  {
   "cell_type": "code",
   "execution_count": null,
   "metadata": {},
   "outputs": [],
   "source": []
  }
 ],
 "metadata": {
  "kernelspec": {
   "display_name": "Python 3",
   "language": "python",
   "name": "python3"
  },
  "language_info": {
   "codemirror_mode": {
    "name": "ipython",
    "version": 3
   },
   "file_extension": ".py",
   "mimetype": "text/x-python",
   "name": "python",
   "nbconvert_exporter": "python",
   "pygments_lexer": "ipython3",
   "version": "3.6.4"
  }
 },
 "nbformat": 4,
 "nbformat_minor": 2
}
