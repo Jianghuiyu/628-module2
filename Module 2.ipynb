{
 "cells": [
  {
   "cell_type": "code",
   "execution_count": 1,
   "metadata": {
    "hideCode": true,
    "hideOutput": true,
    "hidePrompt": true
   },
   "outputs": [
    {
     "name": "stderr",
     "output_type": "stream",
     "text": [
      "── Attaching packages ─────────────────────────────────────── tidyverse 1.2.1 ──\n",
      "✔ ggplot2 2.2.1     ✔ purrr   0.2.4\n",
      "✔ tibble  1.4.2     ✔ dplyr   0.7.4\n",
      "✔ tidyr   0.8.0     ✔ stringr 1.3.0\n",
      "✔ readr   1.1.1     ✔ forcats 0.3.0\n",
      "── Conflicts ────────────────────────────────────────── tidyverse_conflicts() ──\n",
      "✖ dplyr::filter() masks stats::filter()\n",
      "✖ dplyr::lag()    masks stats::lag()\n",
      "Parsed with column specification:\n",
      "cols(\n",
      "  stars = col_integer(),\n",
      "  name = col_character(),\n",
      "  text = col_character(),\n",
      "  date = col_date(format = \"\"),\n",
      "  city = col_character(),\n",
      "  longitude = col_double(),\n",
      "  latitude = col_double(),\n",
      "  categories = col_character()\n",
      ")\n"
     ]
    }
   ],
   "source": [
    "source(\"source.R\")"
   ]
  },
  {
   "cell_type": "markdown",
   "metadata": {},
   "source": [
    "# STAT 628 Module 2 Report"
   ]
  },
  {
   "cell_type": "markdown",
   "metadata": {},
   "source": [
    "_Yanqi Huang_ _Huiyu Jiang_ _Xinjie Ye_"
   ]
  },
  {
   "cell_type": "markdown",
   "metadata": {},
   "source": [
    "## Introduction"
   ]
  },
  {
   "cell_type": "markdown",
   "metadata": {},
   "source": [
    "**_Yelp_** is an American corporation headquartered in San Francisco. The **_Yelp.com_** and the **_Yelp_** mobile app, which pubish customers' reviews about local businesses and provide online reservation service, are owned by the corporation. Our _Yelp_ dataset is a part of the **_Yelp Dataset Challenge_**. Our project explores the relationship between text, rate and other attributes of a review based on the dataset."
   ]
  },
  {
   "cell_type": "markdown",
   "metadata": {},
   "source": [
    "## Background of Yelp Dataset"
   ]
  },
  {
   "cell_type": "markdown",
   "metadata": {},
   "source": [
    "The Yelp dataset we used in our project is derived from **_Yelp Dataset Challenge_**, which encourages students to conduct research and analysis on its dataset. The challenge usually contains photo classification, natural language processing & sentiments a analysis and graph mining. \n",
    "\n",
    "Our dataset consisting of 9 attributes has about 1.5 million records. The 9 attributes are stars of the review, ID number for Kaggle, name of the business, review text, date of the review, city in which the business is located, longitude , latitude and business categories. "
   ]
  },
  {
   "cell_type": "markdown",
   "metadata": {},
   "source": [
    "Our project aims at exploring the sentiments contained by reviews and developing a reasonable and practical model to predict stars given by customers."
   ]
  },
  {
   "cell_type": "markdown",
   "metadata": {},
   "source": [
    "## Analysis of Raw Data"
   ]
  },
  {
   "cell_type": "markdown",
   "metadata": {},
   "source": [
    "There are 1,546,379 records in the dataset. "
   ]
  },
  {
   "cell_type": "code",
   "execution_count": 5,
   "metadata": {
    "hideCode": true,
    "hidePrompt": true
   },
   "outputs": [
    {
     "data": {
      "text/html": [
       "<table>\n",
       "<thead><tr><th scope=col>stars</th><th scope=col>Number of Obervations</th></tr></thead>\n",
       "<tbody>\n",
       "\t<tr><td>1     </td><td>164676</td></tr>\n",
       "\t<tr><td>2     </td><td>152401</td></tr>\n",
       "\t<tr><td>3     </td><td>225710</td></tr>\n",
       "\t<tr><td>4     </td><td>443599</td></tr>\n",
       "\t<tr><td>5     </td><td>559993</td></tr>\n",
       "</tbody>\n",
       "</table>\n"
      ],
      "text/latex": [
       "\\begin{tabular}{r|ll}\n",
       " stars & Number of Obervations\\\\\n",
       "\\hline\n",
       "\t 1      & 164676\\\\\n",
       "\t 2      & 152401\\\\\n",
       "\t 3      & 225710\\\\\n",
       "\t 4      & 443599\\\\\n",
       "\t 5      & 559993\\\\\n",
       "\\end{tabular}\n"
      ],
      "text/markdown": [
       "\n",
       "stars | Number of Obervations | \n",
       "|---|---|---|---|---|\n",
       "| 1      | 164676 | \n",
       "| 2      | 152401 | \n",
       "| 3      | 225710 | \n",
       "| 4      | 443599 | \n",
       "| 5      | 559993 | \n",
       "\n",
       "\n"
      ],
      "text/plain": [
       "  stars Number of Obervations\n",
       "1 1     164676               \n",
       "2 2     152401               \n",
       "3 3     225710               \n",
       "4 4     443599               \n",
       "5 5     559993               "
      ]
     },
     "metadata": {},
     "output_type": "display_data"
    }
   ],
   "source": [
    "train %>% group_by(stars) %>% summarise(\"Number of Obervations\"=n())"
   ]
  },
  {
   "cell_type": "code",
   "execution_count": null,
   "metadata": {},
   "outputs": [],
   "source": []
  }
 ],
 "metadata": {
  "celltoolbar": "Hide code",
  "kernelspec": {
   "display_name": "R",
   "language": "R",
   "name": "ir"
  },
  "language_info": {
   "codemirror_mode": "r",
   "file_extension": ".r",
   "mimetype": "text/x-r-source",
   "name": "R",
   "pygments_lexer": "r",
   "version": "3.4.3"
  }
 },
 "nbformat": 4,
 "nbformat_minor": 2
}
